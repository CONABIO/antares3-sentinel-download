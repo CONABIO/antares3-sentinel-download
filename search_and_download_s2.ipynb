{
 "cells": [
  {
   "cell_type": "code",
   "execution_count": 31,
   "metadata": {},
   "outputs": [],
   "source": [
    "import sys\n",
    "import os\n",
    "import argparse\n",
    "import sentinelsat\n",
    "\n",
    "from sentinelsat import SentinelAPI, read_geojson, geojson_to_wkt\n",
    "from datetime import date"
   ]
  },
  {
   "cell_type": "code",
   "execution_count": 32,
   "metadata": {},
   "outputs": [],
   "source": [
    "user = 'conabio_1'\n",
    "password = 'madmex...'\n",
    "url = 'https://scihub.copernicus.eu/dhus'\n",
    "geojson = '/LUSTRE/MADMEX/imagenes/sentinel2_escenas/zona1.geojson'\n",
    "start_date = '20190101'\n",
    "end_date = '20190226'\n",
    "sensor = 'Sentinel-2'\n",
    "product_type = 'S2MSI1C'\n",
    "maxcloud = '1'   # en porcentaje (%)\n",
    "download = 'False' \n",
    "path_to_save_images = '/LUSTRE/MADMEX/imagenes/sentinel2_escenas/2019/'"
   ]
  },
  {
   "cell_type": "code",
   "execution_count": 33,
   "metadata": {},
   "outputs": [],
   "source": [
    "def search(user, psswd, url, geojson_file, start, end, sensor, product, maxcloud, out_file):\n",
    "    '''\n",
    "        Searching for available scenes in specified\n",
    "        region with parameters provided by user\n",
    "    '''\n",
    "\n",
    "    api = SentinelAPI(user, psswd, url)\n",
    "    footprint = geojson_to_wkt(read_geojson(geojson_file))\n",
    "\n",
    " \n",
    "    products = api.query(footprint,\n",
    "                         date = (start, end),\n",
    "                         platformname=sensor,\n",
    "                         producttype=product,\n",
    "                         cloudcoverpercentage=(0, maxcloud))\n",
    "    for x in products:\n",
    "        print(\"\\t {}  {} \".format(products[x][\"filename\"], products[x][\"size\"]) )\n",
    "\n",
    "    with open(out_file, \"w\") as f:\n",
    "        for i in products:\n",
    "            f.write(products[i][\"identifier\"]+ \"\\n\")\n",
    "    size = api.get_products_size(products)\n",
    "    print(\"Total size {} Gb\".format(str(size)))\n",
    "\n",
    "\n",
    "    return (products, api)"
   ]
  },
  {
   "cell_type": "code",
   "execution_count": 34,
   "metadata": {},
   "outputs": [],
   "source": [
    "def download_local_s2(scenes, api, outpath):\n",
    "    '''\n",
    "        Downloads all the scenes found by query\n",
    "    '''\n",
    "    api.download_all(scenes, directory_path=outpath, max_attempts=10)"
   ]
  },
  {
   "cell_type": "code",
   "execution_count": 35,
   "metadata": {},
   "outputs": [
    {
     "name": "stdout",
     "output_type": "stream",
     "text": [
      "Querying scenes\n"
     ]
    },
    {
     "name": "stderr",
     "output_type": "stream",
     "text": [
      "Found 19 products\n",
      "Found 19 products\n",
      "Found 19 products\n"
     ]
    },
    {
     "name": "stdout",
     "output_type": "stream",
     "text": [
      "\t S2A_MSIL1C_20190224T180331_N0207_R041_T12RWU_20190224T213314.SAFE  797.90 MB \n",
      "\t S2A_MSIL1C_20190224T180331_N0207_R041_T12RXU_20190224T213314.SAFE  90.06 MB \n",
      "\t S2A_MSIL1C_20190221T175331_N0207_R141_T12RYU_20190221T212643.SAFE  822.28 MB \n",
      "\t S2A_MSIL1C_20190221T175331_N0207_R141_T12RXT_20190221T212643.SAFE  812.65 MB \n",
      "\t S2A_MSIL1C_20190221T175331_N0207_R141_T12RXU_20190221T212643.SAFE  834.12 MB \n",
      "\t S2A_MSIL1C_20190221T175331_N0207_R141_T12RYT_20190221T212643.SAFE  811.32 MB \n",
      "\t S2B_MSIL1C_20190216T175419_N0207_R141_T12RWU_20190216T212329.SAFE  485.31 MB \n",
      "\t S2B_MSIL1C_20190216T175419_N0207_R141_T12RXT_20190216T212329.SAFE  809.91 MB \n",
      "\t S2B_MSIL1C_20190216T175419_N0207_R141_T12RYT_20190216T212329.SAFE  803.88 MB \n",
      "\t S2B_MSIL1C_20190216T175419_N0207_R141_T12RXU_20190216T212329.SAFE  830.97 MB \n",
      "\t S2B_MSIL1C_20190216T175419_N0207_R141_T12RWT_20190216T212329.SAFE  657.77 MB \n",
      "\t S2B_MSIL1C_20190216T175419_N0207_R141_T12RYU_20190216T212329.SAFE  809.82 MB \n",
      "\t S2B_MSIL1C_20190127T175619_N0207_R141_T12RXT_20190127T211613.SAFE  814.16 MB \n",
      "\t S2A_MSIL1C_20190122T175641_N0207_R141_T12RXT_20190122T212241.SAFE  805.34 MB \n",
      "\t S2A_MSIL1C_20190122T175641_N0207_R141_T12RXU_20190122T212241.SAFE  824.99 MB \n",
      "\t S2A_MSIL1C_20190122T175641_N0207_R141_T12RWT_20190122T212241.SAFE  653.16 MB \n",
      "\t S2A_MSIL1C_20190122T175641_N0207_R141_T12RWU_20190122T212241.SAFE  483.28 MB \n",
      "\t S2B_MSIL1C_20190120T180649_N0207_R041_T12RXU_20190120T195808.SAFE  100.56 MB \n",
      "\t S2B_MSIL1C_20190117T175659_N0207_R141_T12RWU_20190117T211742.SAFE  486.67 MB \n",
      "Total size 12.44 Gb\n"
     ]
    }
   ],
   "source": [
    "out_file = '/home/madmex_user/antares3-sentinel-download/notebook/scenes_s2_found.txt'\n",
    "\n",
    "if os.path.exists(out_file): os.remove(out_file)\n",
    "\n",
    "\n",
    "print(\"Querying scenes\")\n",
    "scenes, a= search(user, password, url, geojson, start_date, end_date, sensor, product_type, maxcloud, out_file)\n",
    "   \n",
    "\n",
    "if download == True:\n",
    "    print(\"Starting local download\")\n",
    "    download_local_s2(scenes, a, path_to_save_images)"
   ]
  },
  {
   "cell_type": "code",
   "execution_count": null,
   "metadata": {},
   "outputs": [],
   "source": []
  }
 ],
 "metadata": {
  "kernelspec": {
   "display_name": "Python 3",
   "language": "python",
   "name": "python3"
  },
  "language_info": {
   "codemirror_mode": {
    "name": "ipython",
    "version": 3
   },
   "file_extension": ".py",
   "mimetype": "text/x-python",
   "name": "python",
   "nbconvert_exporter": "python",
   "pygments_lexer": "ipython3",
   "version": "3.6.8"
  }
 },
 "nbformat": 4,
 "nbformat_minor": 4
}
